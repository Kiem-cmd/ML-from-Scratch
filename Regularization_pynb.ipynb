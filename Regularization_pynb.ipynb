{
  "nbformat": 4,
  "nbformat_minor": 0,
  "metadata": {
    "colab": {
      "provenance": [],
      "authorship_tag": "ABX9TyO6xH7JWsx2RqudBnnhGgmw",
      "include_colab_link": true
    },
    "kernelspec": {
      "name": "python3",
      "display_name": "Python 3"
    },
    "language_info": {
      "name": "python"
    }
  },
  "cells": [
    {
      "cell_type": "markdown",
      "metadata": {
        "id": "view-in-github",
        "colab_type": "text"
      },
      "source": [
        "<a href=\"https://colab.research.google.com/github/Kiem-cmd/ML-from-Scratch/blob/main/Regularization_pynb.ipynb\" target=\"_parent\"><img src=\"https://colab.research.google.com/assets/colab-badge.svg\" alt=\"Open In Colab\"/></a>"
      ]
    },
    {
      "cell_type": "markdown",
      "source": [
        "<h> REGULARIZATION  ✋</h> "
      ],
      "metadata": {
        "id": "dvsomuf-VyAK"
      }
    },
    {
      "cell_type": "markdown",
      "source": [
        "Một vấn đề chung trong học máy là làm thế nào để mô hình hoạt động tốt trên cả train_data và test_data\n",
        "\n",
        "  ->    Các cách để giải quyết vấn đề này được gọi chung là Regulazation \n",
        "\n",
        "---\n",
        "\n",
        "\n",
        "\n",
        "\n",
        "\n"
      ],
      "metadata": {
        "id": "2nmbvs5HmPe1"
      }
    },
    {
      "cell_type": "markdown",
      "source": [
        "\n",
        "\n",
        " Với DL , Regulazation dựa trên sự cân bằng của variance(giảm) và bias(tăng)\n",
        "*   Mô hình quá sai - bias cao - underfiting\n",
        "*   Mô hình phù hợp với data  - True\n",
        "*   Mô hình quá đúng - variance cao - overfitting\n",
        "\n",
        "\n",
        "---\n",
        "\n",
        "\n",
        "\n",
        "---\n",
        "\n",
        "\n",
        "\n"
      ],
      "metadata": {
        "id": "U206Z70R-GXY"
      }
    },
    {
      "cell_type": "markdown",
      "source": [
        "<strong> Parameter Norm Penalties </strong>"
      ],
      "metadata": {
        "id": "sa1XnyT0_aAP"
      }
    },
    {
      "cell_type": "markdown",
      "source": [
        "Nhiều cách tiếp cận <strong>Regulazation</strong> dựa trên việc giới hạn độ phức tạp của mô hình bằng cách thêm một lượng hình phạt(penalties) vào hàm loss J()"
      ],
      "metadata": {
        "id": "6AX-yp8iAHU_"
      }
    },
    {
      "cell_type": "markdown",
      "source": [
        "![Screenshot 2022-12-16 195641.png](data:image/png;base64,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)"
      ],
      "metadata": {
        "id": "ospntfReAfC5"
      }
    },
    {
      "cell_type": "markdown",
      "source": [
        "\n",
        "Alpha là hyperparameter \n",
        "*   Nếu alpha > 0 : No regulazrization\n",
        "*   Nếu alpha >> : More regularization\n",
        "\n",
        "\n",
        "\n",
        "\n",
        "\n",
        "\n"
      ],
      "metadata": {
        "id": "L--Vibd-AohO"
      }
    },
    {
      "cell_type": "markdown",
      "source": [
        "\n",
        "\n",
        "---\n",
        "* Đối với Neural Network, thường chọn sử dụng penalties các *w* chứ không regualarization *b*\n",
        "\n",
        "Bởi vì các *b* thường chỉ ảnh hưởng tới một biến duy nhất và ko tạo quá nhiều variance và việc regularization nó có thể tạo ra underfitting\n",
        "\n",
        "\n",
        "*  Có thể dùng mỗi một alpha khác nhau cho mỗi layer\n",
        "\n",
        "\n",
        "\n"
      ],
      "metadata": {
        "id": "S0SFR3VtBmP2"
      }
    },
    {
      "cell_type": "code",
      "source": [
        "import math \n",
        "import numpy as np\n",
        "import matplotlib.pyplot as plt\n",
        "np.random.seed(4)\n",
        "\n",
        "means = [[-1,-1],[1,-1],[0,1]]\n",
        "cov=[[1,0],[0,1]]\n",
        "\n",
        "N=20 \n",
        "\n",
        "X0 = np.random.multivariate_normal(means[0],cov,N)\n",
        "X1 = np.random.multivariate_normal(means[1],cov,N)\n",
        "X2 = np.random.multivariate_normal(means[2],cov,N)\n",
        "\n",
        "X = np.concatenate((X0,X1,X2),axis  = 0)\n",
        "K = 3\n",
        "label = np.asarray([0]*N + [1] * N + [2] * N).T\n",
        "def k_mean(X,label):\n",
        "  K = np.amax(label) + 1\n",
        "  X0 = X[label == 0,:]\n",
        "  X1 = X[label == 1,:]\n",
        "  X2 = X[label == 2,:]\n",
        "\n",
        "  plt.plot(X0[:,0],X0[:,1],'^b')\n",
        "  plt.plot(X1[:,0],X1[:,1],'go')\n",
        "  plt.plot(X2[:,0],X2[:,1],'rs')\n",
        "\n",
        "  plt.plot()\n",
        "k_mean(X,label)\n",
        "plt.show()\n",
        "\n"
      ],
      "metadata": {
        "colab": {
          "base_uri": "https://localhost:8080/",
          "height": 265
        },
        "id": "lGL-F9itXST8",
        "outputId": "9e78af5c-5b12-469c-bcde-154bc61b2158"
      },
      "execution_count": 3,
      "outputs": [
        {
          "output_type": "display_data",
          "data": {
            "text/plain": [
              "<Figure size 432x288 with 1 Axes>"
            ],
            "image/png": "[encoded data removed]"
          },
          "metadata": {
            "needs_background": "light"
          }
        }
      ]
    },
    {
      "cell_type": "markdown",
      "source": [
        "\n",
        "\n",
        "---\n",
        "\n"
      ],
      "metadata": {
        "id": "p6CFV6NAR2Ya"
      }
    },
    {
      "cell_type": "markdown",
      "source": [
        "\n",
        "\n",
        " **1. L2 Parameter Regularization - Weight Decay ( Tiêu biến trọng số)**\n",
        " \n",
        " ![Screenshot 2022-12-16 211322.png](data:image/png;base64,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)\n"
      ],
      "metadata": {
        "id": "9vdJ7U3IRI_u"
      }
    },
    {
      "cell_type": "markdown",
      "source": [
        "\n",
        "\n",
        "---\n",
        "- Cách này sẽ đẩy weight về gần với 0 hơn bởi thêm phần penalties(ở bên trên) vào J() \n"
      ],
      "metadata": {
        "id": "WbgMhXcTSSZV"
      }
    },
    {
      "cell_type": "markdown",
      "source": [
        "Xét một bài toán Linear Regression : the cost funtion is *squared error*"
      ],
      "metadata": {
        "id": "LL8smVoSUF6K"
      }
    },
    {
      "cell_type": "markdown",
      "source": [
        "![Screenshot 2022-12-16 212340.png](data:image/png;base64,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)    =>> ![Screenshot 2022-12-16 212434.png](data:image/png;base64,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)"
      ],
      "metadata": {
        "id": "PQNxfBsbUY1o"
      }
    },
    {
      "cell_type": "markdown",
      "source": [
        "và Normal Equation for solution :"
      ],
      "metadata": {
        "id": "Znvdvo53Uga-"
      }
    },
    {
      "cell_type": "markdown",
      "source": [
        "![Screenshot 2022-12-16 212612.png](data:image/png;base64,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)  ==> ![Screenshot 2022-12-16 212632.png](data:image/png;base64,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)"
      ],
      "metadata": {
        "id": "vvToreg6U3yk"
      }
    },
    {
      "cell_type": "markdown",
      "source": [
        " Có thể thế ma trận hiệp phương sai ( đại diện cho variance) của phương trình 2 đã thêm alpha so với phương trình 1  --> điều này làm mo hình thu nhỏ weight "
      ],
      "metadata": {
        "id": "mO7-j7cwVKyf"
      }
    },
    {
      "cell_type": "markdown",
      "source": [
        "\n",
        "\n",
        "---\n",
        "\n",
        "Hiểu nôm na khi thêm penalties thì khi optimize J() các weight phải nhỏ ~ 0 --> hạn chế được overfitting"
      ],
      "metadata": {
        "id": "o4Iazn38VkUS"
      }
    },
    {
      "cell_type": "code",
      "source": [
        "def softmax(x):\n",
        "    e_x = np.exp(x - np.max(x))\n",
        "    return e_x / e_x.sum(axis=0) \n"
      ],
      "metadata": {
        "colab": {
          "base_uri": "https://localhost:8080/"
        },
        "id": "OjvX1SbFUFdB",
        "outputId": "10c4846b-357a-4550-b599-ff004e50cd73"
      },
      "execution_count": 12,
      "outputs": [
        {
          "output_type": "stream",
          "name": "stdout",
          "text": [
            "[0.25 0.25 0.25 0.25]\n"
          ]
        }
      ]
    },
    {
      "cell_type": "code",
      "source": [
        "from sklearn.preprocessing import LabelBinarizer\n",
        "lb = LabelBinarizer()"
      ],
      "metadata": {
        "id": "WvDKuNE6dLCB"
      },
      "execution_count": 13,
      "outputs": []
    },
    {
      "cell_type": "code",
      "source": [
        "def cost_function(Y,y_pred,w1,w2,alpha):\n",
        "  cost = -np.sum(Y*np.log(y_pred))/Y.shape[1]\n",
        "  penalties = alpha*(np.linalg.norm(w1)**2 + np.linalg.norm(w2)**2)\n",
        "\n",
        "  return cost + penalties\n"
      ],
      "metadata": {
        "id": "VAgsJJHReXsy"
      },
      "execution_count": 14,
      "outputs": []
    },
    {
      "cell_type": "code",
      "source": [
        "d0 = 2\n",
        "d1 = 100\n",
        "d2 = 3\n",
        "def neural_network(alpha):\n",
        "  # init parameter random\n",
        "  w1 = 0.01*np.random.randn(d0,d1)     \n",
        "  b1 = np.zeros((d1,1))\n",
        "  w2 = 0.01*np.random.randn(d1,d2)\n",
        "  b2 = np.zeros((d2,1))\n",
        "\n",
        "  Y = lb.fit_transform(label)\n",
        "  N = X.shape[1]\n",
        "\n",
        "  lr = 1\n",
        "\n",
        "  for i in range(10000):\n",
        "\n",
        "    Z1 = np.dot(w1.T,X) + b1\n",
        "    A1 = np.maximum(Z1,0)\n",
        "    Z2 = np.dot(w2.T,A1) + b2\n",
        "    y_pred = softmax(Z2)\n",
        "\n",
        "    if (i%1000) == 0:\n",
        "      loss = cost(Y,y_pred,w1,w2,alpha)\n",
        "      print(f\"Iter:{i} - loss: {loss}\")\n",
        "\n",
        "    E2 = (y_pred - Y)/N\n",
        "    dw2 = np.dot(A1,E2.T) + alpha*w2\n",
        "    db2 = np.sum(E2,axis = 1, keepdims = True)\n",
        "    E1 = np.dot(w2,E2)\n",
        "    E1[Z1<=0] = 0\n",
        "    dw1 = np.dot(X,E1.T) + alpha*w1\n",
        "    db1 = np.sum(E1,axis = 1, keepdims = True)\n",
        "\n",
        "    w1 -= lr*dw1\n",
        "    w2 -= lr*dw2\n",
        "    b1 -= lr*db1\n",
        "    b2 -= lr*db2\n",
        "\n",
        "    return (w1,w2,b1,b2)\n",
        "\n"
      ],
      "metadata": {
        "id": "bIDxKhLjhzll"
      },
      "execution_count": 19,
      "outputs": []
    },
    {
      "cell_type": "code",
      "source": [
        "neural_network(0.01)"
      ],
      "metadata": {
        "colab": {
          "base_uri": "https://localhost:8080/",
          "height": 336
        },
        "id": "fT2mcYADlIss",
        "outputId": "9796de8d-3646-4875-cc17-958a182d8476"
      },
      "execution_count": 20,
      "outputs": [
        {
          "output_type": "error",
          "ename": "ValueError",
          "evalue": "ignored",
          "traceback": [
            "\u001b[0;31m---------------------------------------------------------------------------\u001b[0m",
            "\u001b[0;31mValueError\u001b[0m                                Traceback (most recent call last)",
            "\u001b[0;32m<ipython-input-20-715135afc316>\u001b[0m in \u001b[0;36m<module>\u001b[0;34m\u001b[0m\n\u001b[0;32m----> 1\u001b[0;31m \u001b[0mneural_network\u001b[0m\u001b[0;34m(\u001b[0m\u001b[0;36m0.01\u001b[0m\u001b[0;34m)\u001b[0m\u001b[0;34m\u001b[0m\u001b[0;34m\u001b[0m\u001b[0m\n\u001b[0m",
            "\u001b[0;32m<ipython-input-19-b24b1253acab>\u001b[0m in \u001b[0;36mneural_network\u001b[0;34m(alpha)\u001b[0m\n\u001b[1;32m     16\u001b[0m   \u001b[0;32mfor\u001b[0m \u001b[0mi\u001b[0m \u001b[0;32min\u001b[0m \u001b[0mrange\u001b[0m\u001b[0;34m(\u001b[0m\u001b[0;36m10000\u001b[0m\u001b[0;34m)\u001b[0m\u001b[0;34m:\u001b[0m\u001b[0;34m\u001b[0m\u001b[0;34m\u001b[0m\u001b[0m\n\u001b[1;32m     17\u001b[0m \u001b[0;34m\u001b[0m\u001b[0m\n\u001b[0;32m---> 18\u001b[0;31m     \u001b[0mZ1\u001b[0m \u001b[0;34m=\u001b[0m \u001b[0mnp\u001b[0m\u001b[0;34m.\u001b[0m\u001b[0mdot\u001b[0m\u001b[0;34m(\u001b[0m\u001b[0mw1\u001b[0m\u001b[0;34m.\u001b[0m\u001b[0mT\u001b[0m\u001b[0;34m,\u001b[0m\u001b[0mX\u001b[0m\u001b[0;34m)\u001b[0m \u001b[0;34m+\u001b[0m \u001b[0mb1\u001b[0m\u001b[0;34m\u001b[0m\u001b[0;34m\u001b[0m\u001b[0m\n\u001b[0m\u001b[1;32m     19\u001b[0m     \u001b[0mA1\u001b[0m \u001b[0;34m=\u001b[0m \u001b[0mnp\u001b[0m\u001b[0;34m.\u001b[0m\u001b[0mmaximum\u001b[0m\u001b[0;34m(\u001b[0m\u001b[0mZ1\u001b[0m\u001b[0;34m,\u001b[0m\u001b[0;36m0\u001b[0m\u001b[0;34m)\u001b[0m\u001b[0;34m\u001b[0m\u001b[0;34m\u001b[0m\u001b[0m\n\u001b[1;32m     20\u001b[0m     \u001b[0mZ2\u001b[0m \u001b[0;34m=\u001b[0m \u001b[0mnp\u001b[0m\u001b[0;34m.\u001b[0m\u001b[0mdot\u001b[0m\u001b[0;34m(\u001b[0m\u001b[0mw2\u001b[0m\u001b[0;34m.\u001b[0m\u001b[0mT\u001b[0m\u001b[0;34m,\u001b[0m\u001b[0mA1\u001b[0m\u001b[0;34m)\u001b[0m \u001b[0;34m+\u001b[0m \u001b[0mb2\u001b[0m\u001b[0;34m\u001b[0m\u001b[0;34m\u001b[0m\u001b[0m\n",
            "\u001b[0;32m<__array_function__ internals>\u001b[0m in \u001b[0;36mdot\u001b[0;34m(*args, **kwargs)\u001b[0m\n",
            "\u001b[0;31mValueError\u001b[0m: shapes (100,2) and (60,2) not aligned: 2 (dim 1) != 60 (dim 0)"
          ]
        }
      ]
    },
    {
      "cell_type": "code",
      "source": [],
      "metadata": {
        "id": "BG4c1Q6UlTfR"
      },
      "execution_count": null,
      "outputs": []
    }
  ]
}